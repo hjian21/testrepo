{
 "cells": [
  {
   "cell_type": "markdown",
   "id": "669220cd",
   "metadata": {},
   "source": [
    "# Data Sciences Tools and Ecosystem"
   ]
  },
  {
   "cell_type": "markdown",
   "id": "fe572fb2",
   "metadata": {},
   "source": [
    "In this notebook, Data Science Tools and Ecosystem are summarized."
   ]
  },
  {
   "cell_type": "markdown",
   "id": "e72d686e",
   "metadata": {},
   "source": [
    "__Objectives:\n",
    "- most popular tools are Jupyter Notebook, RStudio and VS Code with python Extensions\n",
    "- most popular libraries are Pandas, Numpy, TensorFlow and Scikit-learn\n",
    "- most popular languages are Python, R, and SQL"
   ]
  },
  {
   "cell_type": "markdown",
   "id": "0a6436db",
   "metadata": {},
   "source": [
    "Some of the popular languages that Data Scientists use are: Python, R, SQL, VBA, Java, C++"
   ]
  },
  {
   "cell_type": "markdown",
   "id": "50b3b2a7",
   "metadata": {},
   "source": [
    "Some of the commonly used libraries used by Data Scientists include:\n",
    "Scikit-learn library, TensorFlow library, Numpy, and Pandas"
   ]
  },
  {
   "cell_type": "markdown",
   "id": "86f7061c",
   "metadata": {},
   "source": [
    "Data Science Tools:\n",
    "- Jupyter Notebook\n",
    "- RStudio\n",
    "- VS Code with Python Extensions"
   ]
  },
  {
   "cell_type": "markdown",
   "id": "8b96736f",
   "metadata": {},
   "source": [
    "Below are a few examples of evaluating arithmetic expressions in Python"
   ]
  },
  {
   "cell_type": "code",
   "execution_count": 1,
   "id": "324a6231",
   "metadata": {},
   "outputs": [
    {
     "data": {
      "text/plain": [
       "17"
      ]
     },
     "execution_count": 1,
     "metadata": {},
     "output_type": "execute_result"
    }
   ],
   "source": [
    "# This a simple arithmetic expression to mutiply then add integers\n",
    "(3*4)+5\n"
   ]
  },
  {
   "cell_type": "code",
   "execution_count": 2,
   "id": "e13338cb",
   "metadata": {},
   "outputs": [
    {
     "data": {
      "text/plain": [
       "3.3333333333333335"
      ]
     },
     "execution_count": 2,
     "metadata": {},
     "output_type": "execute_result"
    }
   ],
   "source": [
    "#This will convert 200 minutes to hours by diving by 60\n",
    "200/60"
   ]
  },
  {
   "cell_type": "markdown",
   "id": "84f4634e",
   "metadata": {},
   "source": [
    "## Author: John from California"
   ]
  }
 ],
 "metadata": {
  "kernelspec": {
   "display_name": "Python 3 (ipykernel)",
   "language": "python",
   "name": "python3"
  },
  "language_info": {
   "codemirror_mode": {
    "name": "ipython",
    "version": 3
   },
   "file_extension": ".py",
   "mimetype": "text/x-python",
   "name": "python",
   "nbconvert_exporter": "python",
   "pygments_lexer": "ipython3",
   "version": "3.11.4"
  }
 },
 "nbformat": 4,
 "nbformat_minor": 5
}
